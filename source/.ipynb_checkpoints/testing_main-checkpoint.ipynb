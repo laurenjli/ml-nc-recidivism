{
 "cells": [
  {
   "cell_type": "code",
   "execution_count": 8,
   "metadata": {},
   "outputs": [],
   "source": [
    "from main import *\n",
    "import numpy as np"
   ]
  },
  {
   "cell_type": "code",
   "execution_count": 11,
   "metadata": {},
   "outputs": [
    {
     "name": "stdout",
     "output_type": "stream",
     "text": [
      "Training set has 773 features\n"
     ]
    }
   ],
   "source": [
    "x = main()"
   ]
  },
  {
   "cell_type": "code",
   "execution_count": 12,
   "metadata": {},
   "outputs": [
    {
     "data": {
      "text/html": [
       "<div>\n",
       "<style scoped>\n",
       "    .dataframe tbody tr th:only-of-type {\n",
       "        vertical-align: middle;\n",
       "    }\n",
       "\n",
       "    .dataframe tbody tr th {\n",
       "        vertical-align: top;\n",
       "    }\n",
       "\n",
       "    .dataframe thead th {\n",
       "        text-align: right;\n",
       "    }\n",
       "</style>\n",
       "<table border=\"1\" class=\"dataframe\">\n",
       "  <thead>\n",
       "    <tr style=\"text-align: right;\">\n",
       "      <th></th>\n",
       "      <th>ID</th>\n",
       "      <th>START_DATE</th>\n",
       "      <th>END_DATE</th>\n",
       "      <th>LABEL</th>\n",
       "      <th>AGE_AT_START_DATE</th>\n",
       "      <th>AGE_AT_END_DATE</th>\n",
       "      <th>AGE_AT_OFFENSE_START</th>\n",
       "      <th>AGE_AT_OFFENSE_END</th>\n",
       "      <th>AGE_FIRST_SENTENCE</th>\n",
       "      <th>NUM_SENTENCES</th>\n",
       "      <th>...</th>\n",
       "      <th>PREFIX_AA</th>\n",
       "      <th>PREFIX_AB</th>\n",
       "      <th>PREFIX_BA</th>\n",
       "      <th>PREFIX_BB</th>\n",
       "      <th>PREFIX_BC</th>\n",
       "      <th>PREFIX_BD</th>\n",
       "      <th>PREFIX_BE</th>\n",
       "      <th>PREFIX_BF</th>\n",
       "      <th>PREFIX_BG</th>\n",
       "      <th>PREFIX_BK</th>\n",
       "    </tr>\n",
       "  </thead>\n",
       "  <tbody>\n",
       "    <tr>\n",
       "      <th>0</th>\n",
       "      <td>153012</td>\n",
       "      <td>1953-10-30</td>\n",
       "      <td>1997-02-14</td>\n",
       "      <td>0</td>\n",
       "      <td>0.188221</td>\n",
       "      <td>0.769598</td>\n",
       "      <td>0.348584</td>\n",
       "      <td>0.358274</td>\n",
       "      <td>0.248651</td>\n",
       "      <td>0.000000</td>\n",
       "      <td>...</td>\n",
       "      <td>0</td>\n",
       "      <td>0</td>\n",
       "      <td>1</td>\n",
       "      <td>0</td>\n",
       "      <td>0</td>\n",
       "      <td>0</td>\n",
       "      <td>0</td>\n",
       "      <td>0</td>\n",
       "      <td>0</td>\n",
       "      <td>0</td>\n",
       "    </tr>\n",
       "    <tr>\n",
       "      <th>1</th>\n",
       "      <td>137820</td>\n",
       "      <td>1966-03-28</td>\n",
       "      <td>1997-12-06</td>\n",
       "      <td>0</td>\n",
       "      <td>0.152553</td>\n",
       "      <td>0.565153</td>\n",
       "      <td>0.348584</td>\n",
       "      <td>0.358274</td>\n",
       "      <td>0.213730</td>\n",
       "      <td>0.018519</td>\n",
       "      <td>...</td>\n",
       "      <td>0</td>\n",
       "      <td>0</td>\n",
       "      <td>1</td>\n",
       "      <td>0</td>\n",
       "      <td>0</td>\n",
       "      <td>0</td>\n",
       "      <td>0</td>\n",
       "      <td>0</td>\n",
       "      <td>0</td>\n",
       "      <td>0</td>\n",
       "    </tr>\n",
       "    <tr>\n",
       "      <th>2</th>\n",
       "      <td>218187</td>\n",
       "      <td>1968-02-22</td>\n",
       "      <td>1997-03-12</td>\n",
       "      <td>0</td>\n",
       "      <td>0.157277</td>\n",
       "      <td>0.531563</td>\n",
       "      <td>0.348584</td>\n",
       "      <td>0.516617</td>\n",
       "      <td>0.218355</td>\n",
       "      <td>0.111111</td>\n",
       "      <td>...</td>\n",
       "      <td>0</td>\n",
       "      <td>0</td>\n",
       "      <td>1</td>\n",
       "      <td>0</td>\n",
       "      <td>0</td>\n",
       "      <td>0</td>\n",
       "      <td>0</td>\n",
       "      <td>0</td>\n",
       "      <td>0</td>\n",
       "      <td>0</td>\n",
       "    </tr>\n",
       "    <tr>\n",
       "      <th>3</th>\n",
       "      <td>37762</td>\n",
       "      <td>1969-03-05</td>\n",
       "      <td>1997-04-25</td>\n",
       "      <td>0</td>\n",
       "      <td>0.093776</td>\n",
       "      <td>0.454206</td>\n",
       "      <td>0.348584</td>\n",
       "      <td>0.358274</td>\n",
       "      <td>0.156183</td>\n",
       "      <td>0.037037</td>\n",
       "      <td>...</td>\n",
       "      <td>0</td>\n",
       "      <td>0</td>\n",
       "      <td>1</td>\n",
       "      <td>0</td>\n",
       "      <td>0</td>\n",
       "      <td>0</td>\n",
       "      <td>0</td>\n",
       "      <td>0</td>\n",
       "      <td>0</td>\n",
       "      <td>0</td>\n",
       "    </tr>\n",
       "    <tr>\n",
       "      <th>4</th>\n",
       "      <td>150961</td>\n",
       "      <td>1969-11-06</td>\n",
       "      <td>1997-08-12</td>\n",
       "      <td>0</td>\n",
       "      <td>0.234243</td>\n",
       "      <td>0.590595</td>\n",
       "      <td>0.348584</td>\n",
       "      <td>0.500873</td>\n",
       "      <td>0.293710</td>\n",
       "      <td>0.092593</td>\n",
       "      <td>...</td>\n",
       "      <td>0</td>\n",
       "      <td>0</td>\n",
       "      <td>1</td>\n",
       "      <td>0</td>\n",
       "      <td>0</td>\n",
       "      <td>0</td>\n",
       "      <td>0</td>\n",
       "      <td>0</td>\n",
       "      <td>0</td>\n",
       "      <td>0</td>\n",
       "    </tr>\n",
       "  </tbody>\n",
       "</table>\n",
       "<p>5 rows × 1134 columns</p>\n",
       "</div>"
      ],
      "text/plain": [
       "       ID START_DATE   END_DATE  LABEL  AGE_AT_START_DATE  AGE_AT_END_DATE  \\\n",
       "0  153012 1953-10-30 1997-02-14      0           0.188221         0.769598   \n",
       "1  137820 1966-03-28 1997-12-06      0           0.152553         0.565153   \n",
       "2  218187 1968-02-22 1997-03-12      0           0.157277         0.531563   \n",
       "3   37762 1969-03-05 1997-04-25      0           0.093776         0.454206   \n",
       "4  150961 1969-11-06 1997-08-12      0           0.234243         0.590595   \n",
       "\n",
       "   AGE_AT_OFFENSE_START  AGE_AT_OFFENSE_END  AGE_FIRST_SENTENCE  \\\n",
       "0              0.348584            0.358274            0.248651   \n",
       "1              0.348584            0.358274            0.213730   \n",
       "2              0.348584            0.516617            0.218355   \n",
       "3              0.348584            0.358274            0.156183   \n",
       "4              0.348584            0.500873            0.293710   \n",
       "\n",
       "   NUM_SENTENCES  ...  PREFIX_AA  PREFIX_AB  PREFIX_BA  PREFIX_BB  PREFIX_BC  \\\n",
       "0       0.000000  ...          0          0          1          0          0   \n",
       "1       0.018519  ...          0          0          1          0          0   \n",
       "2       0.111111  ...          0          0          1          0          0   \n",
       "3       0.037037  ...          0          0          1          0          0   \n",
       "4       0.092593  ...          0          0          1          0          0   \n",
       "\n",
       "   PREFIX_BD  PREFIX_BE  PREFIX_BF  PREFIX_BG  PREFIX_BK  \n",
       "0          0          0          0          0          0  \n",
       "1          0          0          0          0          0  \n",
       "2          0          0          0          0          0  \n",
       "3          0          0          0          0          0  \n",
       "4          0          0          0          0          0  \n",
       "\n",
       "[5 rows x 1134 columns]"
      ]
     },
     "execution_count": 12,
     "metadata": {},
     "output_type": "execute_result"
    }
   ],
   "source": [
    "x.head()"
   ]
  },
  {
   "cell_type": "code",
   "execution_count": 15,
   "metadata": {},
   "outputs": [
    {
     "ename": "SyntaxError",
     "evalue": "invalid syntax (<ipython-input-15-2f0f4ec90a93>, line 4)",
     "output_type": "error",
     "traceback": [
      "\u001b[0;36m  File \u001b[0;32m\"<ipython-input-15-2f0f4ec90a93>\"\u001b[0;36m, line \u001b[0;32m4\u001b[0m\n\u001b[0;31m    else x.c.min() < 0:\u001b[0m\n\u001b[0m         ^\u001b[0m\n\u001b[0;31mSyntaxError\u001b[0m\u001b[0;31m:\u001b[0m invalid syntax\n"
     ]
    }
   ],
   "source": [
    "for c in x.columns:\n",
    "    if x[c].max() > 1:\n",
    "        print('MAX GREATER THAN ONE: {}'.format(c))\n",
    "    else x.c.min() < 0:\n",
    "        print('MIN LESS THAN ZERO: {}'.format(c))\n",
    "    "
   ]
  },
  {
   "cell_type": "code",
   "execution_count": 14,
   "metadata": {},
   "outputs": [
    {
     "data": {
      "text/plain": [
       "1136462"
      ]
     },
     "execution_count": 14,
     "metadata": {},
     "output_type": "execute_result"
    }
   ],
   "source": [
    "x.ID.max()"
   ]
  },
  {
   "cell_type": "code",
   "execution_count": null,
   "metadata": {},
   "outputs": [],
   "source": [
    "for i in x.columns:\n",
    "    if x[i]"
   ]
  },
  {
   "cell_type": "code",
   "execution_count": 7,
   "metadata": {},
   "outputs": [
    {
     "data": {
      "text/plain": [
       "0.025983229006732"
      ]
     },
     "execution_count": 7,
     "metadata": {},
     "output_type": "execute_result"
    }
   ],
   "source": [
    "x.AGE_AT_START_DATE.min()"
   ]
  },
  {
   "cell_type": "code",
   "execution_count": 1,
   "metadata": {},
   "outputs": [],
   "source": [
    "import pipeline as pp\n",
    "import pandas as pd\n",
    "import traintestset as tt\n",
    "import datetime as dt\n",
    "import config\n",
    "import os\n",
    "from sklearn.preprocessing import MinMaxScaler"
   ]
  },
  {
   "cell_type": "code",
   "execution_count": 2,
   "metadata": {},
   "outputs": [],
   "source": [
    "data_dir=config.DATA_DIR\n",
    "results_dir=config.RESULTS_DIR\n",
    "results_file=config.RESULTS_FILE\n",
    "variables=config.VARIABLES\n",
    "models=config.MODELS\n",
    "eval_metrics=config.EVAL_METRICS\n",
    "eval_metrics_by_level=config.EVAL_METRICS_BY_LEVEL\n",
    "grid=config.define_clfs_params(config.GRIDSIZE)\n",
    "period=[1997, 2017]"
   ]
  },
  {
   "cell_type": "code",
   "execution_count": 15,
   "metadata": {},
   "outputs": [],
   "source": [
    "year = 1997\n",
    "label = config.VARIABLES['LABEL']\n",
    "def test():\n",
    "    while year <= 2018:\n",
    "\n",
    "        test_csv = os.path.join(data_dir, \"test_{}_test.csv\".format(year))\n",
    "        train_csv = os.path.join(data_dir, \"test_{}_train.csv\".format(year))\n",
    "\n",
    "        if not os.path.exists(test_csv) or not os.path.exists(train_csv):\n",
    "            print('Creating training and test sets')\n",
    "            tt.full_traintest() \n",
    "\n",
    "        df_test = pp.get_csv(test_csv)\n",
    "        df_train = pp.get_csv(train_csv)\n",
    "\n",
    "        # PRE PROCESS DATA\n",
    "\n",
    "        # changing data type to date\n",
    "        for df in [df_test,  df_train]:\n",
    "            pp.to_date(df, variables['DATES'])\n",
    "        # create year of sentence column for future imputation\n",
    "            df['SENTENCE_YEAR'] = df['START_DATE'].dt.year\n",
    "\n",
    "            ## outliers\n",
    "\n",
    "            ## create missing indicators\n",
    "            for fill in variables['INDICATOR']:\n",
    "                attributes = variables['INDICATOR'][fill]\n",
    "                for attr in attributes:\n",
    "                    if attr == 'INCARCERATION_LEN_DAYS':\n",
    "                        df[attr] = df[attr].where(df[attr]>=0)   # replace neg values with nulls\n",
    "                    df = pp.create_indicator(df, attr, fill)\n",
    "\n",
    "            ## missing imputation\n",
    "            for attribute in variables['MISSING']['AGE']:\n",
    "                year_col = 'SENTENCE_YEAR'\n",
    "                pen_col = 'INMATE_RACE_CODE'\n",
    "                df = pp.impute_with_2cols(df, year_col, pen_col, attribute)\n",
    "\n",
    "            for attribute in variables['MISSING']['MISSING_CAT']:\n",
    "                df = pp.impute_missing(df, attribute)\n",
    "\n",
    "            for attribute in variables['MISSING']['IMPUTE_MEAN']:\n",
    "                df = pp.na_fill_col(df, attribute)\n",
    "\n",
    "            ## discretization\n",
    "\n",
    "            ## dummy\n",
    "            for attribute in variables['CATEGORICAL_VARS']:\n",
    "                if attribute == 'MINMAXTERM':\n",
    "                    r = {'MAX.TERM:,MIN.TERM:': 'MIN.TERM:,MAX.TERM:'}\n",
    "                    df['MINMAXTERM'] = df['MINMAXTERM'].replace(r)\n",
    "\n",
    "            df = pp.categorical_to_dummy(df, variables['CATEGORICAL_VARS'])\n"
   ]
  },
  {
   "cell_type": "code",
   "execution_count": 3,
   "metadata": {},
   "outputs": [],
   "source": [
    "c = ['PREFIX_AA', 'PREFIX_BB']"
   ]
  },
  {
   "cell_type": "code",
   "execution_count": 4,
   "metadata": {
    "scrolled": true
   },
   "outputs": [
    {
     "data": {
      "text/plain": [
       "['PREFIX_AA', 'PREFIX_BB']"
      ]
     },
     "execution_count": 4,
     "metadata": {},
     "output_type": "execute_result"
    }
   ],
   "source": [
    "[x for x in c if x not in ['PREFIX']]"
   ]
  },
  {
   "cell_type": "code",
   "execution_count": 7,
   "metadata": {},
   "outputs": [
    {
     "data": {
      "text/plain": [
       "(7845, 48)"
      ]
     },
     "execution_count": 7,
     "metadata": {},
     "output_type": "execute_result"
    }
   ],
   "source": [
    "x.shape"
   ]
  },
  {
   "cell_type": "code",
   "execution_count": null,
   "metadata": {},
   "outputs": [],
   "source": []
  }
 ],
 "metadata": {
  "kernelspec": {
   "display_name": "Python 3",
   "language": "python",
   "name": "python3"
  },
  "language_info": {
   "codemirror_mode": {
    "name": "ipython",
    "version": 3
   },
   "file_extension": ".py",
   "mimetype": "text/x-python",
   "name": "python",
   "nbconvert_exporter": "python",
   "pygments_lexer": "ipython3",
   "version": "3.7.3"
  }
 },
 "nbformat": 4,
 "nbformat_minor": 2
}
